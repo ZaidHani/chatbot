{
 "cells": [
  {
   "cell_type": "code",
   "execution_count": 46,
   "id": "37d24dec-2ee2-4299-8dee-f0c19245c639",
   "metadata": {},
   "outputs": [],
   "source": [
    "# this chatbot was made using a tutorial, and the tutorial guy made it using chatGPT lol,\n",
    "# anyway to use correctly make a knowledge_base.json file and do this inside\n",
    "# {\n",
    "#     \"questions\": [\n",
    "        \n",
    "#     ]\n",
    "# }"
   ]
  },
  {
   "cell_type": "code",
   "execution_count": 47,
   "id": "4bae2988-dabf-47a9-84a3-2a0b1ff449a8",
   "metadata": {},
   "outputs": [],
   "source": [
    "import json\n",
    "from difflib import get_close_matches"
   ]
  },
  {
   "cell_type": "code",
   "execution_count": 48,
   "id": "a7cc68a9-52fb-4c9b-9dad-bb06c956eeff",
   "metadata": {},
   "outputs": [],
   "source": [
    "# this function returns the data from the 'knowledge_base.json' file into the program\n",
    "def load_knowledge_base(file_path:str) -> dict:\n",
    "    with open (file_path, 'r') as file:\n",
    "        data: dict = json.load(file)\n",
    "    return data"
   ]
  },
  {
   "cell_type": "code",
   "execution_count": 49,
   "id": "d7766230-1923-4df0-ba73-785ff3eb13ae",
   "metadata": {},
   "outputs": [],
   "source": [
    "# this function loads the answer that the user intered into the json file\n",
    "def save_knowledge_base(file_path:str, data:dict):\n",
    "    with open (file_path, 'w') as file:\n",
    "        json.dump(data, file, indent=2)"
   ]
  },
  {
   "cell_type": "code",
   "execution_count": 50,
   "id": "3fe7bc60-4275-4587-b415-86cf7c8afc47",
   "metadata": {},
   "outputs": [],
   "source": [
    "def find_best_match(user_question:str, questions: list[str]) -> str | None:\n",
    "    matches:list = get_close_matches(user_question, questions, n=1, cutoff=0.6)\n",
    "# n=1 will return the top 1 answer, cutoff is kind of like an accuracy measure, the default is 0.6, do not put it high cus then it will start returning\n",
    "# exact matches and we don't want that in our chatbot\n",
    "    return matches[0] if matches else None"
   ]
  },
  {
   "cell_type": "code",
   "execution_count": 51,
   "id": "0ca5ca71-b958-450e-a06c-a63ae77058bd",
   "metadata": {},
   "outputs": [],
   "source": [
    "# this function will get the answer for the question if that question existed in the json file\n",
    "def get_answer_for_question(question:str, knowledge_base:dict) -> str | None:\n",
    "    for q in knowledge_base['questions']:\n",
    "        if q['question']==question:\n",
    "            return q['answer']"
   ]
  },
  {
   "cell_type": "code",
   "execution_count": 52,
   "id": "5de2ffa2-6a63-4be8-b38f-cbe5eeeb927f",
   "metadata": {},
   "outputs": [],
   "source": [
    "def chat_bot():\n",
    "    # loading the data\n",
    "    knowledge_base:dict = load_knowledge_base('knowledge_base.json')\n",
    "\n",
    "    while True:\n",
    "        user_input:str = input('You: ')\n",
    "        if user_input.lower()=='quit':\n",
    "            break\n",
    "            \n",
    "        # this will look for the best match inside of our json file\n",
    "        best_match:str|None = find_best_match(user_input, [q['question'] for q in knowledge_base['questions']])\n",
    "\n",
    "        if best_match:\n",
    "            answer:str = get_answer_for_question(best_match, knowledge_base)\n",
    "            print('Bot: ', answer)\n",
    "        else:\n",
    "            print(\"Bot: I don't know the answer, can you teach me?\")\n",
    "            new_answer:str = input('type the answer or \"skip\" to skip')\n",
    "\n",
    "            if new_answer.lower() != 'skip':\n",
    "                knowledge_base['questions'].append({'question': user_input, 'answer': new_answer})\n",
    "                save_knowledge_base('knowledge_base.json', knowledge_base)\n",
    "                print('thank you I have learnt something new!')"
   ]
  },
  {
   "cell_type": "code",
   "execution_count": 45,
   "id": "275bb9c4-51f4-46d2-b9b8-2b5c7b9915ef",
   "metadata": {},
   "outputs": [
    {
     "name": "stdin",
     "output_type": "stream",
     "text": [
      "You:  hello\n"
     ]
    },
    {
     "name": "stdout",
     "output_type": "stream",
     "text": [
      "Bot:  Hi there!\n"
     ]
    },
    {
     "name": "stdin",
     "output_type": "stream",
     "text": [
      "You:  who made you?\n"
     ]
    },
    {
     "name": "stdout",
     "output_type": "stream",
     "text": [
      "Bot: I don't know the answer, can you teach me?\n"
     ]
    },
    {
     "name": "stdin",
     "output_type": "stream",
     "text": [
      "type the answer or \"skip\" to skip Zaid and Layan from BAU\n"
     ]
    },
    {
     "name": "stdout",
     "output_type": "stream",
     "text": [
      "thank you I have learnt something new!\n"
     ]
    },
    {
     "name": "stdin",
     "output_type": "stream",
     "text": [
      "You:  what is data science?\n"
     ]
    },
    {
     "name": "stdout",
     "output_type": "stream",
     "text": [
      "Bot: I don't know the answer, can you teach me?\n"
     ]
    },
    {
     "name": "stdin",
     "output_type": "stream",
     "text": [
      "type the answer or \"skip\" to skip Data science is the field of study that combines domain expertise, programming skills, and knowledge of mathematics and statistics to extract meaningful insights from data.\n"
     ]
    },
    {
     "name": "stdout",
     "output_type": "stream",
     "text": [
      "thank you I have learnt something new!\n"
     ]
    },
    {
     "name": "stdin",
     "output_type": "stream",
     "text": [
      "You:  quit\n"
     ]
    }
   ],
   "source": [
    "chat_bot()"
   ]
  },
  {
   "cell_type": "code",
   "execution_count": null,
   "id": "fc9f8fbe-9a04-458c-9944-018be722b22e",
   "metadata": {},
   "outputs": [],
   "source": []
  }
 ],
 "metadata": {
  "kernelspec": {
   "display_name": "Python 3 (ipykernel)",
   "language": "python",
   "name": "python3"
  },
  "language_info": {
   "codemirror_mode": {
    "name": "ipython",
    "version": 3
   },
   "file_extension": ".py",
   "mimetype": "text/x-python",
   "name": "python",
   "nbconvert_exporter": "python",
   "pygments_lexer": "ipython3",
   "version": "3.11.5"
  }
 },
 "nbformat": 4,
 "nbformat_minor": 5
}
